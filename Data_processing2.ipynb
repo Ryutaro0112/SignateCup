{
 "cells": [
  {
   "cell_type": "code",
   "execution_count": 1,
   "metadata": {},
   "outputs": [],
   "source": [
    "import pandas as pd\n",
    "import numpy as np\n",
    "import re"
   ]
  },
  {
   "cell_type": "code",
   "execution_count": 2,
   "metadata": {},
   "outputs": [],
   "source": [
    "# 前処理済みのデータの読み込み\n",
    "df_train = pd.read_csv('./data/processed_train1.csv')\n",
    "df_test = pd.read_csv('./data/processed_test1.csv')"
   ]
  },
  {
   "cell_type": "code",
   "execution_count": 3,
   "metadata": {},
   "outputs": [
    {
     "data": {
      "text/plain": [
       "NumberOfTrips\n",
       "2         1006\n",
       "3          699\n",
       "5          436\n",
       "1          349\n",
       "7          219\n",
       "年に2回       141\n",
       "4          141\n",
       "年に3回       121\n",
       "6          109\n",
       "年に5回        79\n",
       "年に1回        60\n",
       "年に7回        37\n",
       "年に6回        21\n",
       "年に4回        19\n",
       "半年に1回       17\n",
       "8            8\n",
       "四半期に1回       3\n",
       "年に8回         2\n",
       "Name: count, dtype: int64"
      ]
     },
     "execution_count": 3,
     "metadata": {},
     "output_type": "execute_result"
    }
   ],
   "source": [
    "df_train['NumberOfTrips'].value_counts()"
   ]
  },
  {
   "cell_type": "code",
   "execution_count": 4,
   "metadata": {},
   "outputs": [
    {
     "data": {
      "text/plain": [
       "NumberOfTrips\n",
       "2.0    1147\n",
       "3.0     820\n",
       "5.0     515\n",
       "1.0     409\n",
       "7.0     256\n",
       "4.0     163\n",
       "6.0     130\n",
       "8.0      10\n",
       "Name: count, dtype: int64"
      ]
     },
     "execution_count": 4,
     "metadata": {},
     "output_type": "execute_result"
    }
   ],
   "source": [
    "# Function to normalize the entries\n",
    "def normalize_trips(trip):\n",
    "    # Convert all values to string first\n",
    "    trip = str(trip)\n",
    "    # Convert phrases like \"年にX回\" to X\n",
    "    if '年に' in trip and '回' in trip:\n",
    "        return re.sub(r'年に(\\d+)回', r'\\1', trip)\n",
    "    # Convert \"半年に1回\" to 0.5 (since it means 2 times a year)\n",
    "    elif trip == '半年に1回':\n",
    "        return '0.5'\n",
    "    # Convert \"四半期に1回\" to 4 (since it means 4 times a year)\n",
    "    elif trip == '四半期に1回':\n",
    "        return '4'\n",
    "    else:\n",
    "        return trip\n",
    "\n",
    "# Apply the normalization function\n",
    "df_train['NumberOfTrips'] = df_train['NumberOfTrips'].apply(normalize_trips)\n",
    "\n",
    "# Convert to float for consistency and handle errors\n",
    "def safe_convert_to_float(value):\n",
    "    try:\n",
    "        return float(value)\n",
    "    except ValueError:\n",
    "        return None  # or handle the error as needed\n",
    "\n",
    "df_train['NumberOfTrips'] = df_train['NumberOfTrips'].apply(safe_convert_to_float)\n",
    "\n",
    "# Display the standardized data\n",
    "df_train['NumberOfTrips'].value_counts()"
   ]
  },
  {
   "cell_type": "code",
   "execution_count": 9,
   "metadata": {},
   "outputs": [],
   "source": [
    "df_test['NumberOfTrips'] = df_test['NumberOfTrips'].apply(normalize_trips)\n",
    "df_test['NumberOfTrips'] = df_test['NumberOfTrips'].apply(safe_convert_to_float)"
   ]
  },
  {
   "cell_type": "code",
   "execution_count": 10,
   "metadata": {},
   "outputs": [
    {
     "data": {
      "text/plain": [
       "NumberOfTrips\n",
       "2.0    1103\n",
       "3.0     886\n",
       "5.0     462\n",
       "1.0     392\n",
       "7.0     257\n",
       "4.0     170\n",
       "6.0     151\n",
       "8.0      16\n",
       "Name: count, dtype: int64"
      ]
     },
     "execution_count": 10,
     "metadata": {},
     "output_type": "execute_result"
    }
   ],
   "source": [
    "df_test['NumberOfTrips'].value_counts()"
   ]
  },
  {
   "cell_type": "code",
   "execution_count": 5,
   "metadata": {},
   "outputs": [],
   "source": [
    "# Mapping of incorrect variations to correct job titles\n",
    "mapping = {\n",
    "    'Executive': 'Executive',\n",
    "    'Exеcutive': 'Executive',\n",
    "    'Exеcutivе': 'Executive',\n",
    "    'Execuｔive': 'Executive',\n",
    "    'Executivе': 'Executive',\n",
    "    'Еxecutive': 'Executive',\n",
    "    'Еxecutivе': 'Executive',\n",
    "    'Е×еcutive': 'Executive',\n",
    "    'E×ecutive': 'Executive',\n",
    "    'Exеcuti?е': 'Executive',\n",
    "    'Executi?e': 'Executive',\n",
    "    'E×ecｕtive': 'Executive',\n",
    "    'Execｕtive': 'Executive',\n",
    "    'Exеcｕtivе': 'Executive',\n",
    "    'Еxecuｔive': 'Executive',\n",
    "    'Ε×ecutive': 'Executive',\n",
    "    'Executi?е': 'Executive',            \n",
    "    'Exеcｕtive': 'Executive',\n",
    "    'E×еcuti?e': 'Executive',          \n",
    "    'Еxеcutivе': 'Executive',              \n",
    "    'Е×ecutive': 'Executive', \n",
    "    \n",
    "    'Manager': 'Manager',\n",
    "    'Μanager': 'Manager',\n",
    "    'Manαger': 'Manager',\n",
    "    'Managеr': 'Manager',\n",
    "    'Mαnager': 'Manager',\n",
    "    'Μanagеr': 'Manager',\n",
    "    'Manαgеr': 'Manager',\n",
    "    'Mαnagеr': 'Manager',\n",
    "    'Manage??': 'Manager',\n",
    "    'Mαnage??': 'Manager',\n",
    "    'Μanage??': 'Manager',\n",
    "    'Mαnαger': 'Manager',\n",
    "    \n",
    "    'Senior Manager': 'Senior Manager',\n",
    "    'Senior Managеr': 'Senior Manager',\n",
    "    'Senior Manαger': 'Senior Manager',\n",
    "    'Senior Mαnager': 'Senior Manager',\n",
    "    'Senior Manαgеr': 'Senior Manager',\n",
    "    'Senior Managе??': 'Senior Manager',\n",
    "    'Senio?? Manager': 'Senior Manager',\n",
    "    '?enior Manager': 'Senior Manager',\n",
    "    '?enior Manαger': 'Senior Manager',\n",
    "    'Sеnior Manager': 'Senior Manager',\n",
    "    '?enior Μanager': 'Senior Manager',\n",
    "    'Senior Μanαger': 'Senior Manager',\n",
    "    'Senior Mαnαger': 'Senior Manager',\n",
    "    'Sеnior Managеr': 'Senior Manager',\n",
    "    'Senior Manage??': 'Senior Manager',\n",
    "    \n",
    "    'AVP': 'AVP',\n",
    "    'ΑVP': 'AVP',\n",
    "    'АVP': 'AVP',\n",
    "    'AVＰ': 'AVP',\n",
    "    \n",
    "    'VP': 'VP',\n",
    "    'VＰ': 'VP',\n",
    "}\n",
    "\n",
    "# Replace incorrect variations with correct job titles\n",
    "df_train['Designation'] = df_train['Designation'].replace(mapping)"
   ]
  },
  {
   "cell_type": "code",
   "execution_count": 14,
   "metadata": {},
   "outputs": [],
   "source": [
    "df_test['Designation'] = df_test['Designation'].replace(mapping)"
   ]
  },
  {
   "cell_type": "code",
   "execution_count": 15,
   "metadata": {},
   "outputs": [],
   "source": [
    "test_mapping = {\n",
    "    'Executiѵe': 'Executive',\n",
    "    'Еxecｕtive': 'Executive',\n",
    "    'Execｕtivе': 'Executive',\n",
    "    'Exеcuｔive': 'Executive',\n",
    "     'Execｕｔive': 'Executive',\n",
    "    \n",
    "    'Manager': 'Manager',\n",
    "    'Manage𝙧': 'Manager',\n",
    "    'Μαnager': 'Manager',\n",
    "    'Mαnαgеr': 'Manager',\n",
    "    'Managе𝙧': 'Manager',\n",
    "    'Μαnagеr': 'Manager',\n",
    "    \n",
    "    'Senior Manager': 'Senior Manager',\n",
    "    'Senio𝙧 Manager': 'Senior Manager',\n",
    "    'Senior Manage𝙧': 'Senior Manager',\n",
    "    'Senior Μanager': 'Senior Manager',\n",
    "    'Տenior Manager': 'Senior Manager',\n",
    "    'Ѕenior Manager': 'Senior Manager',\n",
    "    'Senior Managе𝙧': 'Senior Manager',\n",
    "    'Senio𝙧 Mαnage𝙧': 'Senior Manager',\n",
    "    'Sеnior Managе𝙧': 'Senior Manager',\n",
    "    'Senio𝙧 Managеr': 'Senior Manager',\n",
    "    'Տenior Μanager': 'Senior Manager',\n",
    "    'Ѕenior Μanage𝙧': 'Senior Manager',\n",
    "    'Senio𝙧 Manαger': 'Senior Manager',\n",
    "    'Senio𝙧 Manage𝙧': 'Senior Manager',\n",
    "    'Sеnio𝙧 Manager': 'Senior Manager',\n",
    "    \n",
    "    'AVP': 'AVP',\n",
    "    'АVＰ': 'AVP',\n",
    "    'ΑVＰ': 'AVP',\n",
    "    \n",
    "    'VP': 'VP'\n",
    "}\n",
    "\n",
    "# Replace incorrect variations with correct job titles\n",
    "df_test['Designation'] = df_test['Designation'].replace(test_mapping)"
   ]
  },
  {
   "cell_type": "code",
   "execution_count": 16,
   "metadata": {},
   "outputs": [
    {
     "data": {
      "text/plain": [
       "Designation\n",
       "Executive         1180\n",
       "Manager           1062\n",
       "Senior Manager     778\n",
       "AVP                324\n",
       "VP                 145\n",
       "Name: count, dtype: int64"
      ]
     },
     "execution_count": 16,
     "metadata": {},
     "output_type": "execute_result"
    }
   ],
   "source": [
    "df_test['Designation'].value_counts()"
   ]
  },
  {
   "cell_type": "code",
   "execution_count": 13,
   "metadata": {},
   "outputs": [
    {
     "data": {
      "text/plain": [
       "Designation\n",
       "Executive         1150\n",
       "Manager           1055\n",
       "Senior Manager     854\n",
       "AVP                311\n",
       "VP                 119\n",
       "Name: count, dtype: int64"
      ]
     },
     "execution_count": 13,
     "metadata": {},
     "output_type": "execute_result"
    }
   ],
   "source": [
    "df_train['Designation'].value_counts()"
   ]
  },
  {
   "cell_type": "code",
   "execution_count": 18,
   "metadata": {},
   "outputs": [
    {
     "data": {
      "text/plain": [
       "id                          0\n",
       "Age                         0\n",
       "TypeofContact               6\n",
       "CityTier                    0\n",
       "DurationOfPitch           121\n",
       "Occupation                  0\n",
       "Gender                      0\n",
       "NumberOfPersonVisiting      0\n",
       "NumberOfFollowups          33\n",
       "ProductPitched              0\n",
       "PreferredPropertyStar       0\n",
       "NumberOfTrips              39\n",
       "Passport                    0\n",
       "PitchSatisfactionScore      0\n",
       "Designation                 0\n",
       "MonthlyIncome              56\n",
       "marital_status              0\n",
       "car_ownership               0\n",
       "children                   37\n",
       "ProdTaken                   0\n",
       "dtype: int64"
      ]
     },
     "execution_count": 18,
     "metadata": {},
     "output_type": "execute_result"
    }
   ],
   "source": [
    "df_train.isnull().sum()"
   ]
  },
  {
   "cell_type": "code",
   "execution_count": 22,
   "metadata": {},
   "outputs": [],
   "source": [
    "# Mapping of variations to standard forms\n",
    "product_mapping = {\n",
    "    'Basic': 'Basic', 'basic': 'Basic', 'BASIC': 'Basic', 'Bas?c': 'Basic', 'Вasic': 'Вasic', 'BASΙC': 'Вasic', 'Вasic': 'Basic', 'Вasic': 'Basic',\n",
    "    'Βasic': 'Basic', 'Basi??': 'Basic', 'Βas?c': 'Basic', 'Basiс': 'Basic', '??asic': 'Вasic', '??asi??': 'Вasic', \n",
    "    'Basi?': 'Basic', 'BA?IC': 'Basic', 'BASIС': 'Basic', 'B??sic': 'Basic', 'В??sic': 'Вasic',\n",
    "    'ΒASIС': 'Basic', 'Bas??': 'Basic', 'basi?': 'Basic', 'bas?c': 'Basic', 'Вasic': 'Вasic',\n",
    "    'Baｓic': 'Basic', 'BΑSIC': 'Basic', 'Βas???': 'Basic', 'BΑSIC': 'Basic', 'B??si??': 'Basic', 'Вasic': 'Basic',\n",
    "    'Deluxe': 'Deluxe', 'deluxe': 'Deluxe', 'DELUXE': 'Deluxe', 'De|uxe': 'Deluxe',\n",
    "    'Delu×e': 'Deluxe', 'DELUXΕ': 'Deluxe', 'DΕLUXΕ': 'Deluxe', 'de|u×e': 'Deluxe', 'de|uxe': 'Deluxe', \n",
    "    '?eluxe': 'Deluxe', '??eluxe': 'Deluxe', '?ELUXE': 'Deluxe', 'super deluxe': 'Super Deluxe', 'SUPER DΕLUXE': 'Super Deluxe',\n",
    "    'Super Deluxe': 'Super Deluxe', 'SUPER DELUXE': 'Super Deluxe', 'Super ?eluxe': 'Super Deluxe',\n",
    "    '?uper Deluxe': 'Super Deluxe', 'Super De|uxe': 'Super Deluxe', 'Super ??eluxe': 'Super Deluxe',\n",
    "    '?uper De|uxe': 'Super Deluxe', 'super de|uxe': 'Super Deluxe', 'ｓuper deluxe': 'Super Deluxe',\n",
    "    'Standard': 'Standard', 'standard': 'Standard', 'STANDARD': 'Standard', '?tandard': 'Standard',\n",
    "    'Stand??rd': 'Standard', 'Standa??d': 'Standard', 'Sta?dard': 'Standard', 'S??andard': 'Standard', 'sta?dard': 'Standard',\n",
    "    'Standar??': 'Standard', 'St??ndard': 'Standard', 'STAN?ARD': 'Standard', 'STANDAR?': 'Standard',\n",
    "    '?TANDARD': 'Standard', '?tanda??d': 'Standard', 'King': 'King', 'king': 'King',\n",
    "    'KING': 'King', 'K??g': 'King', 'Ki?g': 'King', 'K?ng': 'King'\n",
    "}\n",
    "\n",
    "# Applying the mapping\n",
    "df_train['ProductPitched'] = df_train['ProductPitched'].map(product_mapping)"
   ]
  },
  {
   "cell_type": "code",
   "execution_count": 20,
   "metadata": {},
   "outputs": [
    {
     "data": {
      "text/plain": [
       "0"
      ]
     },
     "execution_count": 20,
     "metadata": {},
     "output_type": "execute_result"
    }
   ],
   "source": [
    "df_train['ProductPitched'].isnull().sum()"
   ]
  },
  {
   "cell_type": "code",
   "execution_count": 23,
   "metadata": {},
   "outputs": [
    {
     "data": {
      "text/plain": [
       "ProductPitched\n",
       "Basic           1157\n",
       "Deluxe          1045\n",
       "Standard         841\n",
       "Super Deluxe     320\n",
       "King             126\n",
       "Name: count, dtype: int64"
      ]
     },
     "execution_count": 23,
     "metadata": {},
     "output_type": "execute_result"
    }
   ],
   "source": [
    "df_train['ProductPitched'].value_counts()"
   ]
  },
  {
   "cell_type": "code",
   "execution_count": 25,
   "metadata": {},
   "outputs": [
    {
     "data": {
      "text/plain": [
       "ProductPitched\n",
       "Basic           1155\n",
       "Deluxe          1034\n",
       "Standard         742\n",
       "Super Deluxe     309\n",
       "King             158\n",
       "Name: count, dtype: int64"
      ]
     },
     "execution_count": 25,
     "metadata": {},
     "output_type": "execute_result"
    }
   ],
   "source": [
    "df_test['ProductPitched'] = df_test['ProductPitched'].map(product_mapping)\n",
    "df_test['ProductPitched'].value_counts()"
   ]
  },
  {
   "cell_type": "code",
   "execution_count": 26,
   "metadata": {},
   "outputs": [],
   "source": [
    "# データフレームをCSVファイルに出力\n",
    "df_train.to_csv('./data/processed_train.csv', index=False, encoding='utf-8')\n",
    "df_test.to_csv('./data/processed_test.csv', index=False, encoding='utf-8')"
   ]
  }
 ],
 "metadata": {
  "kernelspec": {
   "display_name": "train_model",
   "language": "python",
   "name": "python3"
  },
  "language_info": {
   "codemirror_mode": {
    "name": "ipython",
    "version": 3
   },
   "file_extension": ".py",
   "mimetype": "text/x-python",
   "name": "python",
   "nbconvert_exporter": "python",
   "pygments_lexer": "ipython3",
   "version": "3.11.5"
  }
 },
 "nbformat": 4,
 "nbformat_minor": 2
}
